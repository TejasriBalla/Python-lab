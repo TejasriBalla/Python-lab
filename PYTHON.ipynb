{
  "nbformat": 4,
  "nbformat_minor": 0,
  "metadata": {
    "colab": {
      "name": "PYTHON",
      "provenance": [],
      "collapsed_sections": [
        "GXLXWma-S39s",
        "q0HFv3C8TB5-",
        "IWzTSojbTcyA",
        "YvLRmM3tUOwK",
        "cbFcGAmBQvWl",
        "U40YjKF2SyBx",
        "8pABYmwIWKg4",
        "JeIfmVCTb7p-",
        "JScV5ALGfupP",
        "VVoQdbvAZDaY",
        "jBhPtRElkxbD",
        "INpIQxqrqvGu",
        "hX2slhwhtl6I"
      ],
      "include_colab_link": true
    },
    "kernelspec": {
      "name": "python3",
      "display_name": "Python 3"
    },
    "language_info": {
      "name": "python"
    }
  },
  "cells": [
    {
      "cell_type": "markdown",
      "metadata": {
        "id": "view-in-github",
        "colab_type": "text"
      },
      "source": [
        "<a href=\"https://colab.research.google.com/github/TejasriBalla/Python-lab/blob/main/PYTHON.ipynb\" target=\"_parent\"><img src=\"https://colab.research.google.com/assets/colab-badge.svg\" alt=\"Open In Colab\"/></a>"
      ]
    },
    {
      "cell_type": "markdown",
      "metadata": {
        "id": "GXLXWma-S39s"
      },
      "source": [
        "# **PYTHON PROGRAMS**"
      ]
    },
    {
      "cell_type": "markdown",
      "metadata": {
        "id": "q0HFv3C8TB5-"
      },
      "source": [
        "## ***Exercise-1***"
      ]
    },
    {
      "cell_type": "markdown",
      "metadata": {
        "id": "MR-LJM2dTHtg"
      },
      "source": [
        "1(a) Sample program"
      ]
    },
    {
      "cell_type": "code",
      "metadata": {
        "id": "qsuRlArLTPC_"
      },
      "source": [
        "print(\"welcome\")\n",
        "p=10\n",
        "print(p)"
      ],
      "execution_count": null,
      "outputs": []
    },
    {
      "cell_type": "markdown",
      "metadata": {
        "id": "1G4r94DpTTKy"
      },
      "source": [
        "1(b) write a program to find the big value in given values"
      ]
    },
    {
      "cell_type": "code",
      "metadata": {
        "id": "KVvSZUE4TV3d"
      },
      "source": [
        "p=30\n",
        "q=20 \n",
        "if p>q: \n",
        "  print(\"p is big\") \n",
        "else: \n",
        "  print(\"q is big\")"
      ],
      "execution_count": null,
      "outputs": []
    },
    {
      "cell_type": "markdown",
      "metadata": {
        "id": "IWzTSojbTcyA"
      },
      "source": [
        "## ***Exercise-2***"
      ]
    },
    {
      "cell_type": "markdown",
      "metadata": {
        "id": "wWhpx2u4TiYc"
      },
      "source": [
        "2(a) Write a program to compute distance between two points"
      ]
    },
    {
      "cell_type": "code",
      "metadata": {
        "id": "hp9CEBUgTzU0"
      },
      "source": [
        "import math\n",
        "a=int(input(\"Enter a = \"))\n",
        "b=int(input(\"Enter b = \"))\n",
        "c=int(input(\"Enter c = \"))\n",
        "d=int(input(\"Enter d = \"))\n",
        "di=math.sqrt(((b-a)**2)+((d-c)**2))\n",
        "print(\"Two points Distance is:\",di)"
      ],
      "execution_count": null,
      "outputs": []
    },
    {
      "cell_type": "markdown",
      "metadata": {
        "id": "YvLRmM3tUOwK"
      },
      "source": [
        "## ***Exercise-3***"
      ]
    },
    {
      "cell_type": "markdown",
      "metadata": {
        "id": "1t54wcAkcKgy"
      },
      "source": [
        "3(a) write a program for checking whether given number is even or not"
      ]
    },
    {
      "cell_type": "code",
      "metadata": {
        "id": "P8wh_aHkcLWr"
      },
      "source": [
        "numb=int(input(\"Enter value:\"))\n",
        "if (numb%2!=0):\n",
        "  print(numb,\"is an ODD number\")\n",
        "else:\n",
        "  print(numb,\"is an EVEN number\")"
      ],
      "execution_count": null,
      "outputs": []
    },
    {
      "cell_type": "markdown",
      "metadata": {
        "id": "oflLsCmacWHi"
      },
      "source": [
        "3(b)Write a program to print decimal equivalants 1/2,1/3.....1/10 using loop"
      ]
    },
    {
      "cell_type": "code",
      "metadata": {
        "id": "oq_7dCevcZJF"
      },
      "source": [
        "num=int(input(\"ENTER  NUMBER: \"))\n",
        "for j in range(2,num):\n",
        "     b=1/j \n",
        "     print(\"1/\"+str(j)+\"=\",b)"
      ],
      "execution_count": null,
      "outputs": []
    },
    {
      "cell_type": "markdown",
      "metadata": {
        "id": "vw0uXJpjcqxH"
      },
      "source": [
        "3(C)write a program using for loop that loops over sequence"
      ]
    },
    {
      "cell_type": "code",
      "metadata": {
        "id": "4ce62mdUCbBY"
      },
      "source": [
        "arr=[80,\"pqr\",'m',-80]\n",
        "print(\"array is:\",arr)\n",
        "for j in arr:\n",
        " print(j)"
      ],
      "execution_count": null,
      "outputs": []
    },
    {
      "cell_type": "markdown",
      "metadata": {
        "id": "dYMn_7feGLFr"
      },
      "source": [
        "3(D)write a program using for loop that asks user for a number , and prints a countdowwn from that number to zero"
      ]
    },
    {
      "cell_type": "code",
      "metadata": {
        "id": "rQkg1WjpGR_Y"
      },
      "source": [
        "n=int(input(\"enter the value: \"))\n",
        "while n>=0:\n",
        " print(n)\n",
        " n-=1"
      ],
      "execution_count": null,
      "outputs": []
    },
    {
      "cell_type": "markdown",
      "metadata": {
        "id": "cbFcGAmBQvWl"
      },
      "source": [
        "## **Exercise-5**"
      ]
    },
    {
      "cell_type": "markdown",
      "metadata": {
        "id": "V5oXkwt8Q8sN"
      },
      "source": [
        "5(A)write a program to count the number of characters in the string and store them in dictionary datastructure"
      ]
    },
    {
      "cell_type": "code",
      "metadata": {
        "id": "K6SIIehcRCJ0"
      },
      "source": [
        "nam=input(\"Enter Name: \")\n",
        "di={}\n",
        "  \n",
        "for cha in nam:\n",
        "  keys=di.keys()\n",
        "  \n",
        "  if(cha in keys):\n",
        "      \n",
        "    di[cha]-di[cha]+1 \n",
        "  else:\n",
        "    di[cha]=1 \n",
        "  \n",
        "  print(\"dictionary is\",di)"
      ],
      "execution_count": null,
      "outputs": []
    },
    {
      "cell_type": "markdown",
      "metadata": {
        "id": "ky6jHUDBRqmf"
      },
      "source": [
        "5(B) write a program to use split and join methods in the string and trace a birthday with dictionary datastructure"
      ]
    },
    {
      "cell_type": "code",
      "metadata": {
        "id": "s38sW_ZsR0_S"
      },
      "source": [
        "dob={\"Teju\":\"05-feb-2002\",\"devi\":\"01-dec-1999\"}\n",
        "nam=input(\"Enter person name= \")\n",
        "  \n",
        "m=nam.split()\n",
        "birth=\"\"\n",
        "\n",
        "for j in m: \n",
        "  if j in dob.keys():\n",
        "    per=j\n",
        "print(\"\".join([per,\" Birthday is \",dob[per]]))"
      ],
      "execution_count": null,
      "outputs": []
    },
    {
      "cell_type": "markdown",
      "metadata": {
        "id": "U40YjKF2SyBx"
      },
      "source": [
        "## ***Exercise-6***"
      ]
    },
    {
      "cell_type": "markdown",
      "metadata": {
        "id": "pNs1rZMxTAo2"
      },
      "source": [
        "6(A)Write a program to combine lists that combines these lists into dictionary"
      ]
    },
    {
      "cell_type": "code",
      "metadata": {
        "id": "c_ExCAKqTHXh"
      },
      "source": [
        "sub=[\"DAA\",\"OS\",\"DBMS\",\"P&S\",\"PPL\",\"SE\"]\n",
        "mark=[95,97,99,96,98,96]\n",
        "print(\"given lists are:\")\n",
        "print(\"Subject name=\",sub)\n",
        "print(\"marks=\",mark)\n",
        "d=dict(zip(sub,mark))\n",
        "print(\"dictonary=\",d)"
      ],
      "execution_count": null,
      "outputs": []
    },
    {
      "cell_type": "markdown",
      "metadata": {
        "id": "lMn25j0ZT0Ja"
      },
      "source": [
        "6(B)write a programto count frequency of charecters in the given file.can you use chrecter frequency to tell whether the given file is a python program file,C program file or a text file"
      ]
    },
    {
      "cell_type": "code",
      "metadata": {
        "id": "pkmdExW-T9K8"
      },
      "source": [
        "ftype=['.py','.c','.txt']\n",
        "fn=input(\"enter the file name\")\n",
        "f=open(fn,\"r\")\n",
        "count=dict()\n",
        "print(\"given file is\",end=\" \")\n",
        "for ft in ftype:\n",
        "  if(ft in fn):\n",
        "    if(ft=='.py'):\n",
        "      print(\"python file\")\n",
        "    elif(ft=='.c'):\n",
        "      print(\"c file\")\n",
        "    else:\n",
        "      print(\"txt file\")\n",
        "for line in f:\n",
        "  for ch in line:\n",
        "    if ch in count:\n",
        "      count[ch]=count[ch]+1\n",
        "    else:\n",
        "      count[ch]=1\n",
        "print(count)\n",
        "f.close()"
      ],
      "execution_count": null,
      "outputs": []
    },
    {
      "cell_type": "markdown",
      "metadata": {
        "id": "8pABYmwIWKg4"
      },
      "source": [
        "## ***Exercise-7***"
      ]
    },
    {
      "cell_type": "markdown",
      "metadata": {
        "id": "2Fqsgk7yWbQB"
      },
      "source": [
        "7(A)Write a program to print the each line in file in reverse order"
      ]
    },
    {
      "cell_type": "code",
      "metadata": {
        "id": "yNbaNdvdWqoa"
      },
      "source": [
        "obj=open(\"abc.txt\",\"r\")\n",
        "if obj:\n",
        " st=obj.read()\n",
        " print(\"file content is :\\n\",st)\n",
        " obj.close()\n",
        "\n",
        "printf()\n",
        "lines=st.split(\"\\n\")\n",
        "for ln in lines:\n",
        " i=len(ln)-1\n",
        " while(i>=0):\n",
        "  print(ln[i],end='')\n",
        "  i=i-1\n",
        " print()"
      ],
      "execution_count": null,
      "outputs": []
    },
    {
      "cell_type": "markdown",
      "metadata": {
        "id": "osfYNnW5YIz2"
      },
      "source": [
        "7(B) To compute number of characters,words and letters in file"
      ]
    },
    {
      "cell_type": "code",
      "metadata": {
        "id": "GCqI4zpcYrRa"
      },
      "source": [
        "nc=nw=nl=0\n",
        "file=open(\"abc.txt\",\"r\")\n",
        "nl=nw=nc=0\n",
        "print(\"file content is :\\n\")\n",
        "for line in file:\n",
        "  ln=line.strip(\"\\n\")\n",
        "  print(ln)\n",
        "  words=ln.split()\n",
        "  nl+=1\n",
        "  nw+=len(word)\n",
        "  nc+=len(line)\n",
        "file.close\n",
        "print(\"\\n no of lines\",nl,\"words\",nw,\"character\",nc)"
      ],
      "execution_count": null,
      "outputs": []
    },
    {
      "cell_type": "markdown",
      "metadata": {
        "id": "JeIfmVCTb7p-"
      },
      "source": [
        "## ***Exercise-8***"
      ]
    },
    {
      "cell_type": "markdown",
      "metadata": {
        "id": "ABxnS1hPcAyl"
      },
      "source": [
        "8(a) write a function ball collide that takes two balls as parameters and computes if they are collliding. your function should return a boolean representating whether or not the balls are colliding"
      ]
    },
    {
      "cell_type": "code",
      "metadata": {
        "id": "NhmAUUcUcGqg"
      },
      "source": [
        "import math\n",
        "def collid(ball_up1,ball_up2):\n",
        "  a1,b1,c1=ball_up1\n",
        "  a2,b2,c2=ball_up2\n",
        "  print(\"ball-01: \",ball_up1)\n",
        "  print(\"ball-02: \",ball_up2)\n",
        "  dis=math.sqrt((a2-a1)**2+(b2-b1)**2)\n",
        "  print(\"centroid  distance between two blls\",dis)\n",
        "  print(\"sum of radius ball-01 and ball -02 is: {}+{}={}\".format(c1,c2,c1+c2))\n",
        "\n",
        "  if dis<=c1+c2:\n",
        "    return True\n",
        "  else:\n",
        "    return False\n",
        "\n",
        "ball1=(-4,-8,2)\n",
        "ball2=(2,8,18)\n",
        "\n",
        "if collid(ball1,ball2):\n",
        "  print(\"balls collides\")\n",
        "else:\n",
        "  print(\"balls not collide\")"
      ],
      "execution_count": null,
      "outputs": []
    },
    {
      "cell_type": "markdown",
      "metadata": {
        "id": "2CjXRW8geWsn"
      },
      "source": [
        "8(B)Find mean and mode of given list"
      ]
    },
    {
      "cell_type": "code",
      "metadata": {
        "id": "joH1UU5qebp3"
      },
      "source": [
        "def list_mean(num_list):\n",
        " return sum(num_list)/len(num_list) \n",
        "def list_median(num_list): \n",
        "  num_list.sort()\n",
        "  n=len(num_list)\n",
        "  mid=n/2\n",
        "  if (n%2==1):\n",
        "    return num_list[mid]\n",
        "  else:\n",
        "    mid\n",
        "    return (num_list[mid-1]+num_list[mid])/2\n",
        "def list_mode(num_list):\n",
        "  num_list.sort()\n",
        "  temp=[]\n",
        "\n",
        "  i=0\n",
        "  while i<len(num_list):\n",
        "    temp.append(num_list.count(num_list[i]))\n",
        "    i+=1\n",
        "\n",
        "  dic=dict(zip(num_list,temp))\n",
        "  mode={k for(k,v) in dic.items() if v==max(temp)}\n",
        "  return mode\n",
        "  \n",
        "lst=[2,1,5,9,1,2,4,5,3]\n",
        "\n",
        "\n",
        "print(\"given list is:\",lst)\n",
        "print(\"mean of given list is:\",list_mean(lst))\n",
        "\n",
        "print(\"mode of given list is:\",list_mode(lst))"
      ],
      "execution_count": null,
      "outputs": []
    },
    {
      "cell_type": "markdown",
      "metadata": {
        "id": "JScV5ALGfupP"
      },
      "source": [
        "## ***Exercise-9***"
      ]
    },
    {
      "cell_type": "markdown",
      "metadata": {
        "id": "58g-mq4ofzpU"
      },
      "source": [
        "9(a) equal or not"
      ]
    },
    {
      "cell_type": "code",
      "metadata": {
        "id": "IhWSfEJLgSDI"
      },
      "source": [
        "def nearly_eq(st1,st2):\n",
        "  count=0\n",
        "  i=j=0\n",
        "  while(i<len(st1) and j<len(st2)):\n",
        "   if (st1[i]!=st2[j]):\n",
        "      count+=1\n",
        "      if(len(st1)>len(st2)):\n",
        "        i+=1\n",
        "      elif(len(st1)-len(st2)):\n",
        "         pass\n",
        "      else:\n",
        "         i-=1\n",
        "   if(count>1):\n",
        "         return False\n",
        "         i+=1\n",
        "         j+=1\n",
        "   if(count<2):\n",
        "      return True\n",
        "s1=input(\"Enter String1: \")\n",
        "s2=input(\"Enter String2: \")\n",
        "bln=nearly_eq(s1,s2)\n",
        "if(bln):\n",
        "   print(\"Strings are nearly equal.\")\n",
        "else:\n",
        "   print(\"Strings are NOT equal.\") "
      ],
      "execution_count": null,
      "outputs": []
    },
    {
      "cell_type": "markdown",
      "metadata": {
        "id": "4ZAoo8kmX0kb"
      },
      "source": [
        "9(b) find duplicates in list"
      ]
    },
    {
      "cell_type": "code",
      "metadata": {
        "id": "OBazBPpIX8Pt"
      },
      "source": [
        "def dup(numlst):\n",
        "    tem=[]\n",
        "    for j in numlst:\n",
        "        cnt=numlst.count(j)\n",
        "        if(cnt>1 and (j not in tem)):\n",
        "            tem.append(j)\n",
        "    print(\"Duplicate elements in the list: \",tem)\n",
        "   \n",
        "lst=[8,7,6,5,1,7,5,2,8]\n",
        "print(\"Given elements in the list: \",lst)\n",
        "dup(lst)"
      ],
      "execution_count": null,
      "outputs": []
    },
    {
      "cell_type": "markdown",
      "metadata": {
        "id": "VVoQdbvAZDaY"
      },
      "source": [
        "## ***Exercise-10***"
      ]
    },
    {
      "cell_type": "markdown",
      "metadata": {
        "id": "10Z5YELYZP6k"
      },
      "source": [
        "10(A)To compute cumulative product list of numbers"
      ]
    },
    {
      "cell_type": "code",
      "metadata": {
        "id": "gDREWrPEZT6_"
      },
      "source": [
        "def cumu_prod(num_list):\n",
        "  prod=1\n",
        "  tem=[]\n",
        "  for j in num_list:\n",
        "    prod*=j\n",
        "    tem.append(prod)\n",
        "  return tem\n",
        "lst=[50,2,20,60,40]\n",
        "print(\"list=\",lst)\n",
        "print(\"cumulative product=\",cumu_prod(lst))\n"
      ],
      "execution_count": null,
      "outputs": []
    },
    {
      "cell_type": "markdown",
      "metadata": {
        "id": "IP9_HVu9i7ji"
      },
      "source": [
        "10(b) write a reverse function to reverse the list without using reverse function"
      ]
    },
    {
      "cell_type": "code",
      "metadata": {
        "id": "PJYbOGMLi8Ut"
      },
      "source": [
        "def rev_list(num_list):\n",
        "  m=0\n",
        "  n=len(num_list)-1\n",
        "  while(m<=n):\n",
        "    tem=num_list[m]\n",
        "    num_list[m]=num_list[n]\n",
        "    num_list[n]=tem\n",
        "    n-=1\n",
        "    m+=1\n",
        "  return num_list\n",
        "lst=[50,1,80,600,5]\n",
        "print(\"list=\",lst)\n",
        "rev_list(lst)\n",
        "print(\"reverse list=\",lst)"
      ],
      "execution_count": null,
      "outputs": []
    },
    {
      "cell_type": "markdown",
      "metadata": {
        "id": "ESJN8VVxjuiJ"
      },
      "source": [
        "10(C) To compute gcd,lcm of two numbers. each function should not exceed one line"
      ]
    },
    {
      "cell_type": "code",
      "metadata": {
        "id": "RsQGpUISjvL2"
      },
      "source": [
        "gcd=lambda p,q:p if q==0 else gcd(p,p%q)\n",
        "lcm=lambda p,q:(p*q)/gcd(p,q)\n",
        "m=25\n",
        "n=50\n",
        "print(\"Given numbers=\",m,n)\n",
        "print(\"GCD=\",gcd(m,n))\n",
        "print(\"LCM=\",lcm(m,n))"
      ],
      "execution_count": null,
      "outputs": []
    },
    {
      "cell_type": "markdown",
      "metadata": {
        "id": "jBhPtRElkxbD"
      },
      "source": [
        "## ***Exercise-11***"
      ]
    },
    {
      "cell_type": "markdown",
      "metadata": {
        "id": "yj-tEbd0k4YG"
      },
      "source": [
        "11(A) program defines a matrixs and print"
      ]
    },
    {
      "cell_type": "code",
      "metadata": {
        "id": "4QmIfKe0k9wK"
      },
      "source": [
        "matA=[[]]\n",
        "row=int(input(\"enter rows size of matrix \"))\n",
        "col=int(input(\"enter cols size of matrix \"))\n",
        "\n",
        "matA=[[int(input(\"enter [%d,%d]value:\"%(p,q)))for q in range(col)]for p in range(row)]\n",
        "\n",
        "print(\"matrix is\")\n",
        "for p in range(row):\n",
        " for q in range(col):\n",
        "     print(matA[p][q],end='\\t')\n",
        " print()"
      ],
      "execution_count": null,
      "outputs": []
    },
    {
      "cell_type": "markdown",
      "metadata": {
        "id": "VFhcrJjAm_A6"
      },
      "source": [
        "11(B) Addition of two square matrix"
      ]
    },
    {
      "cell_type": "code",
      "metadata": {
        "id": "eDutohTanGBT"
      },
      "source": [
        "def matRead(row,col):\n",
        "  return[[int(input(\" [%d,%d]value:\"%(p,q)))for q in range(col)]for p in range(row)]\n",
        "def matDisp(mat,row,col):\n",
        "  for p in range(row):\n",
        "   for q in range(col):\n",
        "    print(mat[p][q],end='\\t')\n",
        "   print()\n",
        "\n",
        "matA=[[]]\n",
        "matB=[[]]\n",
        "matAdd=[[]]\n",
        "rows=int(input(\"enter row size of matrix \"))\n",
        "cols=int(input(\"enter col size of matrix \"))\n",
        "if rows==cols:\n",
        "  print(\"Enter matrix A elements\")\n",
        "  matA=matRead(rows,cols)\n",
        "\n",
        "  print(\"Enter matrix B elements\")\n",
        "  matB=matRead(rows,cols)\n",
        "\n",
        "  print(\" matrix A Is\")\n",
        "  matDisp(matA,rows,cols)\n",
        "\n",
        "  print(\" matrix B Is\")\n",
        "  matDisp(matB,rows,cols)\n",
        "\n",
        "  matAdd=[[matA[p][q]+matB[p][q] for q in range(cols)] for p in range (rows)]\n",
        "\n",
        "  print(\"sum of matrix\")\n",
        "  matDisp(matAdd,rows,cols)\n",
        "else:\n",
        "  print(\"Matrices addition is not possible\")"
      ],
      "execution_count": null,
      "outputs": []
    },
    {
      "cell_type": "markdown",
      "metadata": {
        "id": "hZwG1ohBpYHS"
      },
      "source": [
        "11(c) Multiplication of matrix"
      ]
    },
    {
      "cell_type": "code",
      "metadata": {
        "id": "d8OJt1t7pd9e"
      },
      "source": [
        "def matRead(row,col):\n",
        "  return[[int(input(\"[%d,%d]value:\"%(p,q)))for q in range(col)]for p in range(row)]\n",
        "def matDisp(mat,row,col):\n",
        "  for p in range(row):\n",
        "   for q in range(col):\n",
        "    print(mat[p][q],end='\\t')\n",
        "   print()\n",
        "\n",
        "matA=[[]]\n",
        "matB=[[]]\n",
        "matMul=[[]]\n",
        "rows=int(input(\"enter row size of matrix \"))\n",
        "cols=int(input(\"enter col size of matrix \"))\n",
        "if rows==cols:\n",
        "  print(\"Enter matrix A elements\")\n",
        "  matA=matRead(rows,cols)\n",
        "\n",
        "  print(\"Enter matrix B elements\")\n",
        "  matB=matRead(rows,cols)\n",
        "\n",
        "  matMul=[[0 for q in range(cols)] for p in range (rows)]\n",
        "  for p in range(rows):\n",
        "   for q in range(cols):\n",
        "    for r in range(cols):\n",
        "      matMul[p][q]+=matA[p][r]*matB[r][q]\n",
        "\n",
        "\n",
        "\n",
        "  print(\" matrix A Is\")\n",
        "  matDisp(matA,rows,cols)\n",
        "\n",
        "  print(\" matrix B Is\")\n",
        "  matDisp(matB,rows,cols)\n",
        "\n",
        "  print(\"mul of matrix\")\n",
        "  matDisp(matMul,rows,cols)\n",
        "else:\n",
        "  print(\"Matrices MUL is not possible\")"
      ],
      "execution_count": null,
      "outputs": []
    },
    {
      "cell_type": "markdown",
      "metadata": {
        "id": "INpIQxqrqvGu"
      },
      "source": [
        "## ***Exercise-12***"
      ]
    },
    {
      "cell_type": "markdown",
      "metadata": {
        "id": "F4UKlCCbq0QQ"
      },
      "source": [
        "12(B) Script and imports requests and fetch content from page"
      ]
    },
    {
      "cell_type": "code",
      "metadata": {
        "id": "7jg3eMCMq6WX"
      },
      "source": [
        "import requests\n",
        "r=requests.get('https://www.google.com')\n",
        "\n",
        "print(\"status code:\",r.status_code)\n",
        "\n",
        "print(\"header content:\",r.headers['content-type'])\n",
        "print(r.text)"
      ],
      "execution_count": null,
      "outputs": []
    },
    {
      "cell_type": "markdown",
      "metadata": {
        "id": "ZmhqhYyqtSAq"
      },
      "source": [
        "12(C)simple script that serves simple HTTP Response and HTML page"
      ]
    },
    {
      "cell_type": "code",
      "metadata": {
        "id": "RLX9NXlxtk5u"
      },
      "source": [
        "from flask import Flask,render_template\n",
        "app=Flask(__name__)\n",
        "print(app)\n",
        "@app.route(\"/\")\n",
        "def main():\n",
        "  return render_template('login.html')\n",
        "\n",
        "if__name__==\"__main__\":\n",
        "  app.run(host=\"127.0.0.1\",port=2500)"
      ],
      "execution_count": null,
      "outputs": []
    },
    {
      "cell_type": "markdown",
      "metadata": {
        "id": "hX2slhwhtl6I"
      },
      "source": [
        "## ***Exercise-13***"
      ]
    },
    {
      "cell_type": "markdown",
      "metadata": {
        "id": "xhXpRrj1txxl"
      },
      "source": [
        "13(A)Class variable and instance variable ,illustrate the self-variable"
      ]
    },
    {
      "cell_type": "markdown",
      "metadata": {
        "id": "kXKrCx29tzEI"
      },
      "source": [
        "ROBOT"
      ]
    },
    {
      "cell_type": "code",
      "metadata": {
        "id": "AajWPdcDt6JW"
      },
      "source": [
        "class  Robot:\n",
        "   what=\"MACHINE\"\n",
        "   name=\"KATYAYANI\"\n",
        "   version=1.0\n",
        "   speed=\"9THz\"\n",
        "   memory=\"8ZB\"\n",
        "   \n",
        "   \n",
        "   def update(upd):\n",
        "     upd.version-2.0\n",
        "     upd.speed=\"12THz\"\n",
        "     upd.memory=\"10ZB\"\n",
        "     \n",
        "   def disp(self):\n",
        "     print(\"Im\",rob.what)\n",
        "     print(\"Name\",rob.name)\n",
        "     print(\"Version\",rob.version)\n",
        "     print(\"Speed\",rob.speed)\n",
        "     print(\"Memory\",rob.memory)\n",
        "\n",
        "rob=Robot()\n",
        "rob.disp()\n",
        "\n",
        "print(\"---UPDATE----\")\n",
        "rob.update()\n",
        "rob.disp()"
      ],
      "execution_count": null,
      "outputs": []
    },
    {
      "cell_type": "markdown",
      "metadata": {
        "id": "nqk0gL8Ou2Fg"
      },
      "source": [
        "13(B) ATM"
      ]
    },
    {
      "cell_type": "code",
      "metadata": {
        "id": "AOgTGZAqu31R"
      },
      "source": [
        "class Atm:\n",
        "    def __init__(self):\n",
        "       self.balance=0\n",
        "       \n",
        "    def enquire(self):\n",
        "       print(\"balance\",self.balance)\n",
        "       \n",
        "    def deposit(self):\n",
        "       amount=int(input(\"Enter deposite amount=\"))\n",
        "       self.balance+=amount\n",
        "       self.enquire()\n",
        "\n",
        "    def withdraw(self):\n",
        "       amount=int(input(\"Enter withdraw amount=\"))\n",
        "       if self.balance<amount:\n",
        "        print(\"Insufficient balance\")\n",
        "       else:\n",
        "        self.balance-=amount\n",
        "        self.enquire()\n",
        "\n",
        "aob=Atm()\n",
        "while(True):\n",
        "    print(\"----------Menu----------\")\n",
        "    print(\"1.Deposit\")\n",
        "    print(\"2.Withdraw\")\n",
        "    print(\"3.Balance\")\n",
        "    print(\"0.Exit\")\n",
        "\n",
        "    c=int(input(\"Enter your choice= \"))\n",
        "\n",
        "    if c==0:\n",
        "        break\n",
        "    elif c==1:\n",
        "        aob.deposit()\n",
        "    elif c==2:\n",
        "        aob.withdraw()\n",
        "    elif c==3:\n",
        "        aob.enquire()\n",
        "    else:\n",
        "        print(\"Invalid choice\")\n",
        "        pass"
      ],
      "execution_count": null,
      "outputs": []
    }
  ]
}